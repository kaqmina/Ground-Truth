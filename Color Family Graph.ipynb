{
 "cells": [
  {
   "cell_type": "markdown",
   "metadata": {},
   "source": [
    "#### Load the dataset from test8.csv."
   ]
  },
  {
   "cell_type": "code",
   "execution_count": 97,
   "metadata": {},
   "outputs": [],
   "source": [
    "import pandas as pd\n",
    "\n",
    "lsd_file = 'test8.csv'\n",
    "lsd = pd.read_csv(lsd_file)"
   ]
  },
  {
   "cell_type": "markdown",
   "metadata": {},
   "source": [
    "##### Notes\n",
    "1. Must make sure that the .csv file is encoded as UTF-8 CSV.\n",
    "2. If .csv is not saved as UTF-8, simply save the file as CSV (UTF-8)."
   ]
  },
  {
   "cell_type": "code",
   "execution_count": 100,
   "metadata": {
    "scrolled": true
   },
   "outputs": [
    {
     "name": "stdout",
     "output_type": "stream",
     "text": [
      "Total: [8514, 2454, 2917, 3872, 1633, 5203]\n"
     ]
    },
    {
     "data": {
      "image/png": "[encoded data removed]",
      "text/plain": [
       "<matplotlib.figure.Figure at 0x245366a95f8>"
      ]
     },
     "metadata": {},
     "output_type": "display_data"
    }
   ],
   "source": [
    "column_names = ['n_red','n_yellow', 'n_green', 'n_cyan', 'n_blue', 'n_magenta']\n",
    "fin = []\n",
    "\n",
    "def supply_values():\n",
    "    for family in column_names:\n",
    "        temp = 0\n",
    "        for x in lsd[family]:\n",
    "            temp+=x\n",
    "        fin.append(temp)\n",
    "    print('Total: ' + str(fin))\n",
    "    df = pd.DataFrame({'family':column_names, 'sum':fin})\n",
    "    ax = df.plot.bar(x='family',y='sum',rot=0, color=['red','yellow','green','cyan','blue','magenta'], legend=False)\n",
    "    ax.set_xlabel('Family')\n",
    "    ax.set_title('Sum of Instances')\n",
    "    \n",
    "supply_values()\n",
    "\n"
   ]
  },
  {
   "cell_type": "code",
   "execution_count": null,
   "metadata": {},
   "outputs": [],
   "source": []
  }
 ],
 "metadata": {
  "kernelspec": {
   "display_name": "Python 3",
   "language": "python",
   "name": "python3"
  },
  "language_info": {
   "codemirror_mode": {
    "name": "ipython",
    "version": 3
   },
   "file_extension": ".py",
   "mimetype": "text/x-python",
   "name": "python",
   "nbconvert_exporter": "python",
   "pygments_lexer": "ipython3",
   "version": "3.6.4"
  }
 },
 "nbformat": 4,
 "nbformat_minor": 2
}
